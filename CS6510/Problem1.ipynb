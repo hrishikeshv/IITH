{
 "cells": [
  {
   "cell_type": "code",
   "execution_count": 1,
   "metadata": {
    "collapsed": true
   },
   "outputs": [],
   "source": [
    "import numpy as np\n",
    "n = 6\n",
    "m = 2"
   ]
  },
  {
   "cell_type": "code",
   "execution_count": 3,
   "metadata": {
    "collapsed": false,
    "scrolled": true
   },
   "outputs": [
    {
     "name": "stdout",
     "output_type": "stream",
     "text": [
      "[[ 1.  0.  1.  0.  1.  0.]\n",
      " [ 0.  1.  0.  1.  0.  1.]\n",
      " [ 1.  0.  1.  0.  1.  0.]\n",
      " [ 0.  1.  0.  1.  0.  1.]\n",
      " [ 1.  0.  1.  0.  1.  0.]\n",
      " [ 0.  1.  0.  1.  0.  1.]]\n"
     ]
    }
   ],
   "source": [
    "##Problem 1\n",
    "arr = np.zeros((n,n))\n",
    "arr[::2,::2] = 1\n",
    "arr[1::2,1::2] = 1\n",
    "print arr"
   ]
  },
  {
   "cell_type": "code",
   "execution_count": 6,
   "metadata": {
    "collapsed": true
   },
   "outputs": [],
   "source": [
    "##Problem 2\n",
    "arr = np.random.rand(n,n)\n",
    "arr = arr[np.argsort(arr[:,m-1])]"
   ]
  },
  {
   "cell_type": "code",
   "execution_count": 8,
   "metadata": {
    "collapsed": false
   },
   "outputs": [
    {
     "name": "stdout",
     "output_type": "stream",
     "text": [
      "[[ 0  1  2  3  4  5]\n",
      " [ 1  2  3  4  5  6]\n",
      " [ 2  3  4  5  6  7]\n",
      " [ 3  4  5  6  7  8]\n",
      " [ 4  5  6  7  8  9]\n",
      " [ 5  6  7  8  9 10]]\n"
     ]
    }
   ],
   "source": [
    "##Problem 3\n",
    "arr = np.tile(np.arange(n),(n,1))\n",
    "arr = arr + arr.T\n",
    "print arr"
   ]
  }
 ],
 "metadata": {
  "kernelspec": {
   "display_name": "Python 2",
   "language": "python",
   "name": "python2"
  },
  "language_info": {
   "codemirror_mode": {
    "name": "ipython",
    "version": 2
   },
   "file_extension": ".py",
   "mimetype": "text/x-python",
   "name": "python",
   "nbconvert_exporter": "python",
   "pygments_lexer": "ipython2",
   "version": "2.7.12"
  }
 },
 "nbformat": 4,
 "nbformat_minor": 1
}
